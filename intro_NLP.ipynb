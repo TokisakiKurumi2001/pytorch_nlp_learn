{
  "nbformat": 4,
  "nbformat_minor": 0,
  "metadata": {
    "colab": {
      "name": "intro_NLP.ipynb",
      "provenance": [],
      "collapsed_sections": []
    },
    "kernelspec": {
      "name": "python3",
      "display_name": "Python 3"
    },
    "language_info": {
      "name": "python"
    }
  },
  "cells": [
    {
      "cell_type": "markdown",
      "source": [
        "# Introduction to Library"
      ],
      "metadata": {
        "id": "ercP5Lw0Cq23"
      }
    },
    {
      "cell_type": "code",
      "source": [
        "import torch\n",
        "\n",
        "torch.manual_seed(10)"
      ],
      "metadata": {
        "colab": {
          "base_uri": "https://localhost:8080/"
        },
        "id": "5-3GOUCjDUAv",
        "outputId": "12eb7577-8264-46e1-ec7e-2276efe8a286"
      },
      "execution_count": 1,
      "outputs": [
        {
          "output_type": "execute_result",
          "data": {
            "text/plain": [
              "<torch._C.Generator at 0x7fbe7322fb30>"
            ]
          },
          "metadata": {},
          "execution_count": 1
        }
      ]
    },
    {
      "cell_type": "code",
      "source": [
        "V_data = [1., 2., 3.]\n",
        "V = torch.tensor(V_data)\n",
        "print(V)\n",
        "\n",
        "M_data = [[1., 2., 3.], [4., 5., 6.]]\n",
        "M = torch.tensor(M_data)\n",
        "print(M)\n",
        "\n",
        "T_data = [[[1., 2.], [3., 4.]],\n",
        "          [[5., 6.], [7., 8.]]]\n",
        "T = torch.tensor(T_data)\n",
        "print(T)"
      ],
      "metadata": {
        "colab": {
          "base_uri": "https://localhost:8080/"
        },
        "id": "IF9S3uBODWwv",
        "outputId": "4a257782-bad8-407e-b284-d32e370486e1"
      },
      "execution_count": 2,
      "outputs": [
        {
          "output_type": "stream",
          "name": "stdout",
          "text": [
            "tensor([1., 2., 3.])\n",
            "tensor([[1., 2., 3.],\n",
            "        [4., 5., 6.]])\n",
            "tensor([[[1., 2.],\n",
            "         [3., 4.]],\n",
            "\n",
            "        [[5., 6.],\n",
            "         [7., 8.]]])\n"
          ]
        }
      ]
    },
    {
      "cell_type": "code",
      "source": [
        "print(V[0])\n",
        "\n",
        "print(V[0].item())\n",
        "\n",
        "print(M[0])\n",
        "\n",
        "print(T[0])"
      ],
      "metadata": {
        "colab": {
          "base_uri": "https://localhost:8080/"
        },
        "id": "qjucbmc2DvwX",
        "outputId": "1990b536-13a0-4d00-e515-d2dbf0e93d02"
      },
      "execution_count": 3,
      "outputs": [
        {
          "output_type": "stream",
          "name": "stdout",
          "text": [
            "tensor(1.)\n",
            "1.0\n",
            "tensor([1., 2., 3.])\n",
            "tensor([[1., 2.],\n",
            "        [3., 4.]])\n"
          ]
        }
      ]
    },
    {
      "cell_type": "code",
      "source": [
        "x = torch.randn((3, 4, 5))\n",
        "print(x)"
      ],
      "metadata": {
        "colab": {
          "base_uri": "https://localhost:8080/"
        },
        "id": "EuJ-8MBMD8ES",
        "outputId": "352387db-ecba-46df-c867-3ce1d8f902a7"
      },
      "execution_count": 4,
      "outputs": [
        {
          "output_type": "stream",
          "name": "stdout",
          "text": [
            "tensor([[[-0.8173, -0.5556, -0.8267, -1.2970, -0.1974],\n",
            "         [-0.9643, -0.5133,  2.6278, -0.7465,  1.0051],\n",
            "         [-0.2568,  0.4765, -0.6652, -0.3627, -1.4504],\n",
            "         [-0.2496,  0.8298,  1.1209,  0.9999,  1.1167]],\n",
            "\n",
            "        [[ 1.0763, -0.0662,  0.1315,  0.1681,  0.0562],\n",
            "         [ 0.2456,  0.9535,  0.3553,  0.2121, -0.3378],\n",
            "         [-0.3536, -0.2729,  1.3290,  1.1974, -1.2645],\n",
            "         [-0.4344, -2.1806, -1.1094, -2.0410,  0.0334]],\n",
            "\n",
            "        [[-1.0805, -0.8832,  0.9741,  0.5632,  0.2979],\n",
            "         [ 0.1442,  1.2385, -0.1170,  0.5876, -1.1603],\n",
            "         [ 1.0045, -0.5749,  0.4541, -0.1225, -0.1627],\n",
            "         [ 1.4592,  1.2487, -2.2774,  1.2525,  0.5467]]])\n"
          ]
        }
      ]
    },
    {
      "cell_type": "markdown",
      "source": [
        "# Operations with Tensors"
      ],
      "metadata": {
        "id": "2jcG-wGxD_dZ"
      }
    },
    {
      "cell_type": "code",
      "source": [
        "x = torch.tensor([1., 2., 3.])\n",
        "y = torch.tensor([4., 5., 6.])\n",
        "z = x + y\n",
        "print(z)"
      ],
      "metadata": {
        "colab": {
          "base_uri": "https://localhost:8080/"
        },
        "id": "Bx1Nk35WEDhg",
        "outputId": "1f879583-f4d3-4b16-c553-8776a925714d"
      },
      "execution_count": 5,
      "outputs": [
        {
          "output_type": "stream",
          "name": "stdout",
          "text": [
            "tensor([5., 7., 9.])\n"
          ]
        }
      ]
    },
    {
      "cell_type": "code",
      "source": [
        "x_1 = torch.randn(2, 5)\n",
        "y_1 = torch.randn(3, 5)\n",
        "z_1 = torch.concat([x_1, y_1])\n",
        "print(z_1)\n",
        "print(z_1.shape)\n",
        "\n",
        "# Concatenate columns\n",
        "x_2 = torch.randn(2, 3)\n",
        "y_2 = torch.randn(2, 5)\n",
        "z_2 = torch.cat([x_2, y_2], 1)\n",
        "print(z_2)\n",
        "print(z_2.shape)"
      ],
      "metadata": {
        "colab": {
          "base_uri": "https://localhost:8080/"
        },
        "id": "DxjyD_M_EK7r",
        "outputId": "f84b929d-c7cc-4b40-f63b-131affc90bb6"
      },
      "execution_count": 6,
      "outputs": [
        {
          "output_type": "stream",
          "name": "stdout",
          "text": [
            "tensor([[ 1.3687,  0.3852, -2.0651,  0.5798, -1.7677],\n",
            "        [ 0.6419,  0.4829,  1.1083,  0.5820,  0.6164],\n",
            "        [-1.4783, -1.9776,  0.8265, -0.6013, -0.9088],\n",
            "        [-0.9017, -0.9700, -1.6733, -0.6607, -0.9986],\n",
            "        [ 1.4816, -1.0823, -3.3556,  1.9240,  0.2508]])\n",
            "torch.Size([5, 5])\n",
            "tensor([[-1.6043, -1.1309,  0.3749,  1.6663,  0.6998, -1.1588,  1.2140, -0.2297],\n",
            "        [ 1.2620,  0.3892, -0.6982, -0.3283,  0.7096,  0.4556,  0.2015, -0.1900]])\n",
            "torch.Size([2, 8])\n"
          ]
        }
      ]
    },
    {
      "cell_type": "markdown",
      "source": [
        "# Reshaping tensor"
      ],
      "metadata": {
        "id": "XXEflhzGEo8Q"
      }
    },
    {
      "cell_type": "code",
      "source": [
        "x = torch.randn(2, 3, 4)\n",
        "print(x)\n",
        "print(x.view(2, 12))\n",
        "print(x.view(2, 12).shape)\n",
        "print(x.view(2, -1))\n",
        "print(x.view(2, -1).shape)"
      ],
      "metadata": {
        "colab": {
          "base_uri": "https://localhost:8080/"
        },
        "id": "klj0HsKxEtIP",
        "outputId": "7140826e-0fe3-441e-cd60-8d9b5656df83"
      },
      "execution_count": 8,
      "outputs": [
        {
          "output_type": "stream",
          "name": "stdout",
          "text": [
            "tensor([[[ 0.0330,  0.9396,  1.3287,  0.0719],\n",
            "         [ 1.0553, -0.8978, -2.2463, -0.3669],\n",
            "         [-0.5246,  0.0565,  0.5084,  0.5053]],\n",
            "\n",
            "        [[ 0.3078, -1.7432, -1.1199, -0.0032],\n",
            "         [-0.8785, -0.8161, -1.5947, -1.4591],\n",
            "         [-2.2393, -1.3974, -0.2388, -0.4498]]])\n",
            "tensor([[ 0.0330,  0.9396,  1.3287,  0.0719,  1.0553, -0.8978, -2.2463, -0.3669,\n",
            "         -0.5246,  0.0565,  0.5084,  0.5053],\n",
            "        [ 0.3078, -1.7432, -1.1199, -0.0032, -0.8785, -0.8161, -1.5947, -1.4591,\n",
            "         -2.2393, -1.3974, -0.2388, -0.4498]])\n",
            "torch.Size([2, 12])\n",
            "tensor([[ 0.0330,  0.9396,  1.3287,  0.0719,  1.0553, -0.8978, -2.2463, -0.3669,\n",
            "         -0.5246,  0.0565,  0.5084,  0.5053],\n",
            "        [ 0.3078, -1.7432, -1.1199, -0.0032, -0.8785, -0.8161, -1.5947, -1.4591,\n",
            "         -2.2393, -1.3974, -0.2388, -0.4498]])\n",
            "torch.Size([2, 12])\n"
          ]
        }
      ]
    },
    {
      "cell_type": "markdown",
      "source": [
        "# Auto differentiation"
      ],
      "metadata": {
        "id": "yD30fAhSFvQu"
      }
    },
    {
      "cell_type": "code",
      "source": [
        "x = torch.tensor([1., 2., 3.], requires_grad=True)\n",
        "y = torch.tensor([4., 5., 6.], requires_grad=True)\n",
        "z = x + y\n",
        "print(z)\n",
        "\n",
        "print(z.grad_fn)"
      ],
      "metadata": {
        "colab": {
          "base_uri": "https://localhost:8080/"
        },
        "id": "y3UONVBbFyKJ",
        "outputId": "4b636a16-08be-49da-c880-29fea618fcf4"
      },
      "execution_count": 9,
      "outputs": [
        {
          "output_type": "stream",
          "name": "stdout",
          "text": [
            "tensor([5., 7., 9.], grad_fn=<AddBackward0>)\n",
            "<AddBackward0 object at 0x7fbe70553290>\n"
          ]
        }
      ]
    },
    {
      "cell_type": "code",
      "source": [
        "s = z.sum()\n",
        "print(s)\n",
        "print(s.grad_fn)"
      ],
      "metadata": {
        "colab": {
          "base_uri": "https://localhost:8080/"
        },
        "id": "KzgV5uvTGS2O",
        "outputId": "e394cf9e-09f1-4bda-bee6-7e41104c1b50"
      },
      "execution_count": 10,
      "outputs": [
        {
          "output_type": "stream",
          "name": "stdout",
          "text": [
            "tensor(21., grad_fn=<SumBackward0>)\n",
            "<SumBackward0 object at 0x7fbe70571a10>\n"
          ]
        }
      ]
    },
    {
      "cell_type": "code",
      "source": [
        "s.backward()\n",
        "print(x.grad)"
      ],
      "metadata": {
        "colab": {
          "base_uri": "https://localhost:8080/"
        },
        "id": "-mNZXgT2Gj4g",
        "outputId": "0c29821c-3962-46e9-c5c7-9f68a5ce062c"
      },
      "execution_count": 11,
      "outputs": [
        {
          "output_type": "stream",
          "name": "stdout",
          "text": [
            "tensor([1., 1., 1.])\n"
          ]
        }
      ]
    },
    {
      "cell_type": "code",
      "source": [
        "x = torch.randn(2, 2)\n",
        "y = torch.randn(2, 2)\n",
        "# default tensor has requires_grad=False\n",
        "print(x.requires_grad, y.requires_grad)\n",
        "z = x + y\n",
        "print(z.grad_fn)\n",
        "\n",
        "# Change the tensor into requires_grad=True\n",
        "x = x.requires_grad_()\n",
        "y = y.requires_grad_()\n",
        "z = x + y\n",
        "print(z.grad_fn)\n",
        "print(z.requires_grad)\n",
        "\n",
        "# Get the value of z only, not its long computation gradient history\n",
        "new_z = z.detach()\n",
        "print(new_z.grad_fn)\n",
        "print(new_z.requires_grad)"
      ],
      "metadata": {
        "colab": {
          "base_uri": "https://localhost:8080/"
        },
        "id": "6N1oBtkAGzvV",
        "outputId": "8ba4d7c8-5b13-4f67-fcfa-8f0c068b3fc3"
      },
      "execution_count": 12,
      "outputs": [
        {
          "output_type": "stream",
          "name": "stdout",
          "text": [
            "False False\n",
            "None\n",
            "<AddBackward0 object at 0x7fbe70600950>\n",
            "True\n",
            "None\n",
            "False\n"
          ]
        }
      ]
    },
    {
      "cell_type": "code",
      "source": [
        "print(x.requires_grad)\n",
        "print((x**2).requires_grad)\n",
        "\n",
        "with torch.no_grad():\n",
        "  print((x**2).requires_grad)"
      ],
      "metadata": {
        "colab": {
          "base_uri": "https://localhost:8080/"
        },
        "id": "ODNlQgN9H9qA",
        "outputId": "71f45f18-764e-4a45-a4e8-6ceabfd4fcf9"
      },
      "execution_count": 13,
      "outputs": [
        {
          "output_type": "stream",
          "name": "stdout",
          "text": [
            "True\n",
            "True\n",
            "False\n"
          ]
        }
      ]
    }
  ]
}