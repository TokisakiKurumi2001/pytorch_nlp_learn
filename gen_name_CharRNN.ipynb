{
  "nbformat": 4,
  "nbformat_minor": 0,
  "metadata": {
    "colab": {
      "name": "gen_name_CharRNN.ipynb",
      "provenance": []
    },
    "kernelspec": {
      "name": "python3",
      "display_name": "Python 3"
    },
    "language_info": {
      "name": "python"
    }
  },
  "cells": [
    {
      "cell_type": "markdown",
      "source": [
        "# Download and prepare data"
      ],
      "metadata": {
        "id": "XUduO1Vg41vj"
      }
    },
    {
      "cell_type": "code",
      "execution_count": null,
      "metadata": {
        "id": "wq6B_DCo1FAn"
      },
      "outputs": [],
      "source": [
        "!wget https://download.pytorch.org/tutorial/data.zip\n",
        "!unzip data.zip"
      ]
    },
    {
      "cell_type": "code",
      "source": [
        "from __future__ import unicode_literals, print_function, division\n",
        "from io import open\n",
        "import glob\n",
        "import os\n",
        "import unicodedata\n",
        "import string\n",
        "\n",
        "all_letters = string.ascii_letters + \" .,;'-\"\n",
        "n_letters = len(all_letters) + 1 # Plus EOS marker\n",
        "\n",
        "def findFiles(path):\n",
        "  return glob.glob(path)\n",
        "\n",
        "# Turn a Unicode string to plain ASCII, thanks to https://stackoverflow.com/a/518232/2809427\n",
        "def unicodeToAscii(s):\n",
        "    return ''.join(\n",
        "        c for c in unicodedata.normalize('NFD', s)\n",
        "        if unicodedata.category(c) != 'Mn'\n",
        "        and c in all_letters\n",
        "    )\n",
        "\n",
        "# read a file and split into lines\n",
        "def readlines(filename):\n",
        "  with open(filename, encoding='utf-8') as some_file:\n",
        "    return [unicodeToAscii(line.strip()) for line in some_file]\n",
        "\n",
        "category_lines = {}\n",
        "all_categories = []\n",
        "for filename in findFiles('data/names/*.txt'):\n",
        "  category = os.path.splitext(os.path.basename(filename))[0]\n",
        "  all_categories.append(category)\n",
        "  lines = readlines(filename)\n",
        "  category_lines[category] = lines\n",
        "\n",
        "n_categories = len(all_categories)\n",
        "\n",
        "if n_categories == 0:\n",
        "  raise RuntimeError('Data not found. Make sure that you downloaded data '\n",
        "        'from https://download.pytorch.org/tutorial/data.zip and extract it to '\n",
        "        'the current directory.')\n",
        "  \n",
        "print('# categories', n_categories, all_categories)\n",
        "print(unicodeToAscii(\"O'Néàl\"))"
      ],
      "metadata": {
        "colab": {
          "base_uri": "https://localhost:8080/"
        },
        "id": "fT9uJ0c31VR4",
        "outputId": "39a1e9d1-8595-43c4-80d6-4674c2df75cf"
      },
      "execution_count": 3,
      "outputs": [
        {
          "output_type": "stream",
          "name": "stdout",
          "text": [
            "# categories 18 ['Polish', 'German', 'Czech', 'Scottish', 'Japanese', 'Italian', 'Chinese', 'Russian', 'Portuguese', 'Irish', 'Dutch', 'Vietnamese', 'Arabic', 'Korean', 'English', 'French', 'Spanish', 'Greek']\n",
            "O'Neal\n"
          ]
        }
      ]
    },
    {
      "cell_type": "markdown",
      "source": [
        "# Network"
      ],
      "metadata": {
        "id": "SnhQ475W35c_"
      }
    },
    {
      "cell_type": "code",
      "source": [
        "import torch\n",
        "import torch.nn as nn\n",
        "import torch.nn.functional as F"
      ],
      "metadata": {
        "id": "9o6fb-it40vr"
      },
      "execution_count": 4,
      "outputs": []
    },
    {
      "cell_type": "code",
      "source": [
        "class RNN(nn.Module):\n",
        "  def __init__(self, input_size, hidden_size, output_size):\n",
        "    super(RNN, self).__init__()\n",
        "    self.hidden_size = hidden_size\n",
        "\n",
        "    self.i2h = nn.Linear(n_categories + input_size + hidden_size, hidden_size)\n",
        "    self.i2o = nn.Linear(n_categories + input_size + hidden_size, output_size)\n",
        "    self.o2o = nn.Linear(hidden_size + output_size, output_size)\n",
        "    self.dropout = nn.Dropout(0.1)\n",
        "    \n",
        "  def init_hidden(self):\n",
        "    return torch.zeros(1, self.hidden_size)\n",
        "\n",
        "  def forward(self, category, input, hidden):\n",
        "    input_combined = torch.cat((category, input, hidden), 1)\n",
        "    hidden = self.i2h(input_combined)\n",
        "    output = self.i2o(input_combined)\n",
        "    output_combined = torch.cat((hidden, output), 1)\n",
        "    output = self.o2o(output_combined)\n",
        "    output = self.dropout(output)\n",
        "    output = F.log_softmax(output, dim=1)\n",
        "    return output, hidden"
      ],
      "metadata": {
        "id": "VCqSAxyk4-UO"
      },
      "execution_count": 12,
      "outputs": []
    },
    {
      "cell_type": "markdown",
      "source": [
        "# Training"
      ],
      "metadata": {
        "id": "chf9G6wl5zp8"
      }
    },
    {
      "cell_type": "code",
      "source": [
        "import random\n",
        "\n",
        "def randomChoice(l):\n",
        "  return l[random.randint(0, len(l) - 1)]\n",
        "\n",
        "def randomTrainingPair():\n",
        "  category = randomChoice(all_categories)\n",
        "  line = randomChoice(category_lines[category])\n",
        "  return category, line"
      ],
      "metadata": {
        "id": "TAOhLjCI51gS"
      },
      "execution_count": 6,
      "outputs": []
    },
    {
      "cell_type": "code",
      "source": [
        "def categoryTensor(category):\n",
        "  li = all_categories.index(category)\n",
        "  tensor = torch.zeros(1, n_categories)\n",
        "  tensor[0][li] = 1\n",
        "  return tensor\n",
        "\n",
        "def inputTensor(line):\n",
        "  tensor = torch.zeros(len(line), 1, n_letters)\n",
        "  for li in range(len(line)):\n",
        "    letter = line[li]\n",
        "    tensor[li][0][all_letters.find(letter)] = 1\n",
        "  return tensor\n",
        "\n",
        "def targetTensor(line):\n",
        "  letters_indexes = [all_letters.find(line[li]) for li in range(1, len(line))]\n",
        "  letters_indexes.append(n_letters - 1)\n",
        "  return torch.LongTensor(letters_indexes)"
      ],
      "metadata": {
        "id": "NLUMEZev6L3r"
      },
      "execution_count": 7,
      "outputs": []
    },
    {
      "cell_type": "code",
      "source": [
        "def randomTrainingExample():\n",
        "  category, line = randomTrainingPair()\n",
        "  category_tensor = categoryTensor(category)\n",
        "  input_line_tensor = inputTensor(line)\n",
        "  target_line_tensor = targetTensor(line)\n",
        "  return category_tensor, input_line_tensor, target_line_tensor"
      ],
      "metadata": {
        "id": "OrSmsEK061ov"
      },
      "execution_count": 8,
      "outputs": []
    },
    {
      "cell_type": "code",
      "source": [
        "criterion = nn.NLLLoss()\n",
        "\n",
        "learning_rate = 0.0005\n",
        "\n",
        "def train(category_tensor, input_line_tensor, target_line_tensor):\n",
        "  target_line_tensor.unsqueeze_(-1)\n",
        "  hidden = rnn.init_hidden()\n",
        "\n",
        "  rnn.zero_grad()\n",
        "  loss = 0\n",
        "\n",
        "  for i in range(input_line_tensor.size(0)):\n",
        "    output, hidden = rnn(category_tensor, input_line_tensor[i], hidden)\n",
        "    l = criterion(output, target_line_tensor[i])\n",
        "    loss += l\n",
        "\n",
        "  loss.backward()\n",
        "\n",
        "  for p in rnn.parameters():\n",
        "    p.data.add_(p.grad.data, alpha=-learning_rate)\n",
        "  \n",
        "  return output, loss.item() / input_line_tensor.size(0)"
      ],
      "metadata": {
        "id": "7AvTGZIC7GWH"
      },
      "execution_count": 9,
      "outputs": []
    },
    {
      "cell_type": "code",
      "source": [
        "import time\n",
        "import math\n",
        "\n",
        "def timeSince(since):\n",
        "    now = time.time()\n",
        "    s = now - since\n",
        "    m = math.floor(s / 60)\n",
        "    s -= m * 60\n",
        "    return '%dm %ds' % (m, s)"
      ],
      "metadata": {
        "id": "l21DxJKE70OR"
      },
      "execution_count": 10,
      "outputs": []
    },
    {
      "cell_type": "code",
      "source": [
        "rnn = RNN(n_letters, 128, n_letters)\n",
        "\n",
        "n_iters = 100000\n",
        "print_every = 5000\n",
        "plot_every = 500\n",
        "all_losses = []\n",
        "total_loss = 0 # Reset every plot_every iters\n",
        "\n",
        "start = time.time()\n",
        "\n",
        "for iter in range(1, n_iters + 1):\n",
        "    output, loss = train(*randomTrainingExample())\n",
        "    total_loss += loss\n",
        "\n",
        "    if iter % print_every == 0:\n",
        "        print('%s (%d %d%%) %.4f' % (timeSince(start), iter, iter / n_iters * 100, loss))\n",
        "\n",
        "    if iter % plot_every == 0:\n",
        "        all_losses.append(total_loss / plot_every)\n",
        "        total_loss = 0"
      ],
      "metadata": {
        "colab": {
          "base_uri": "https://localhost:8080/"
        },
        "id": "WAOYUeQ572S2",
        "outputId": "3f9f379c-cb9a-4b01-a1c0-83d1e91ce6fd"
      },
      "execution_count": 13,
      "outputs": [
        {
          "output_type": "stream",
          "name": "stdout",
          "text": [
            "0m 11s (5000 5%) 2.5271\n",
            "0m 27s (10000 10%) 2.6130\n",
            "0m 38s (15000 15%) 1.9623\n",
            "0m 51s (20000 20%) 2.5263\n",
            "1m 4s (25000 25%) 2.1903\n",
            "1m 19s (30000 30%) 2.1732\n",
            "1m 33s (35000 35%) 2.0141\n",
            "1m 47s (40000 40%) 3.1498\n",
            "2m 1s (45000 45%) 2.0651\n",
            "2m 17s (50000 50%) 3.0846\n",
            "2m 33s (55000 55%) 1.9936\n",
            "2m 47s (60000 60%) 2.6894\n",
            "3m 3s (65000 65%) 2.1189\n",
            "3m 18s (70000 70%) 2.5978\n",
            "3m 32s (75000 75%) 1.5871\n",
            "3m 46s (80000 80%) 2.2028\n",
            "4m 0s (85000 85%) 2.1679\n",
            "4m 14s (90000 90%) 2.2588\n",
            "4m 28s (95000 95%) 2.3320\n",
            "4m 42s (100000 100%) 3.5396\n"
          ]
        }
      ]
    },
    {
      "cell_type": "code",
      "source": [
        "import matplotlib.pyplot as plt\n",
        "\n",
        "plt.figure()\n",
        "plt.plot(all_losses)"
      ],
      "metadata": {
        "colab": {
          "base_uri": "https://localhost:8080/",
          "height": 282
        },
        "id": "IIzCSNK18B_k",
        "outputId": "a6a4d65c-bdc4-4084-ed4c-daf034a6c563"
      },
      "execution_count": 14,
      "outputs": [
        {
          "output_type": "execute_result",
          "data": {
            "text/plain": [
              "[<matplotlib.lines.Line2D at 0x7f252ddd4a50>]"
            ]
          },
          "metadata": {},
          "execution_count": 14
        },
        {
          "output_type": "display_data",
          "data": {
            "image/png": "[encoded data removed]",
            "text/plain": [
              "<Figure size 432x288 with 1 Axes>"
            ]
          },
          "metadata": {
            "needs_background": "light"
          }
        }
      ]
    },
    {
      "cell_type": "markdown",
      "source": [
        "# Sampling the network"
      ],
      "metadata": {
        "id": "qzQBEgYw8LNB"
      }
    },
    {
      "cell_type": "code",
      "source": [
        "max_length = 20\n",
        "def sample(category, start_letter='A'):\n",
        "  with torch.no_grad():\n",
        "    category_tensor = categoryTensor(category)\n",
        "    input = inputTensor(start_letter)\n",
        "    hidden = rnn.init_hidden()\n",
        "\n",
        "    output_name = start_letter\n",
        "\n",
        "    for i in range(max_length):\n",
        "      output, hidden = rnn(category_tensor, input[0], hidden)\n",
        "      topv, topi = output.topk(1)\n",
        "      topi = topi[0][0]\n",
        "      if topi == n_letters - 1:\n",
        "        break\n",
        "      else:\n",
        "        letter = all_letters[topi]\n",
        "        output_name += letter\n",
        "      input = inputTensor(letter)\n",
        "\n",
        "  return output_name\n",
        "\n",
        "def samples(category, start_letters='ABC'):\n",
        "  for start_letter in start_letters:\n",
        "    print(sample(category, start_letter))"
      ],
      "metadata": {
        "id": "DSsoGjhH8O9n"
      },
      "execution_count": 15,
      "outputs": []
    },
    {
      "cell_type": "code",
      "source": [
        "samples('Russian', 'RUS')\n",
        "\n",
        "samples('German', 'GER')\n",
        "\n",
        "samples('Spanish', 'SPA')\n",
        "\n",
        "samples('Chinese', 'CHI')"
      ],
      "metadata": {
        "colab": {
          "base_uri": "https://localhost:8080/"
        },
        "id": "EhBo00g29En5",
        "outputId": "7adea74d-d0e7-4ce4-88d3-c82d6018030d"
      },
      "execution_count": 16,
      "outputs": [
        {
          "output_type": "stream",
          "name": "stdout",
          "text": [
            "Rakovakov\n",
            "Uanovovovovovov\n",
            "Shanovovovov\n",
            "Gerter\n",
            "Eren\n",
            "Ronerr\n",
            "Santer\n",
            "Parera\n",
            "Ales\n",
            "Chan\n",
            "Han\n",
            "Iun\n"
          ]
        }
      ]
    }
  ]
}