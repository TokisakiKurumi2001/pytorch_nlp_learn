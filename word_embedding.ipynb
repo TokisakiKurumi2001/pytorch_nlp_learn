{
  "nbformat": 4,
  "nbformat_minor": 0,
  "metadata": {
    "colab": {
      "name": "word_embedding.ipynb",
      "provenance": [],
      "collapsed_sections": []
    },
    "kernelspec": {
      "name": "python3",
      "display_name": "Python 3"
    },
    "language_info": {
      "name": "python"
    }
  },
  "cells": [
    {
      "cell_type": "code",
      "execution_count": 1,
      "metadata": {
        "colab": {
          "base_uri": "https://localhost:8080/"
        },
        "id": "4sFh-j2sUAJC",
        "outputId": "b8fc0927-b78b-4019-938d-e0b4feda8f06"
      },
      "outputs": [
        {
          "output_type": "execute_result",
          "data": {
            "text/plain": [
              "<torch._C.Generator at 0x7f9af7182a50>"
            ]
          },
          "metadata": {},
          "execution_count": 1
        }
      ],
      "source": [
        "import torch\n",
        "import torch.nn as nn\n",
        "import torch.nn.functional as F\n",
        "import torch.optim as optim\n",
        "\n",
        "torch.manual_seed(1)"
      ]
    },
    {
      "cell_type": "code",
      "source": [
        "word_to_idx = {\"hello\": 0, \"world\": 1}\n",
        "embeds = nn.Embedding(2, 5)\n",
        "lookup_tensor = torch.tensor([word_to_idx[\"hello\"]], dtype=torch.long)\n",
        "hello_embed = embeds(lookup_tensor)\n",
        "print(hello_embed)"
      ],
      "metadata": {
        "colab": {
          "base_uri": "https://localhost:8080/"
        },
        "id": "pUURdLFQV4bG",
        "outputId": "e5f094c8-a149-4702-9157-f4eca6fd99fd"
      },
      "execution_count": 2,
      "outputs": [
        {
          "output_type": "stream",
          "name": "stdout",
          "text": [
            "tensor([[ 0.6614,  0.2669,  0.0617,  0.6213, -0.4519]],\n",
            "       grad_fn=<EmbeddingBackward0>)\n"
          ]
        }
      ]
    },
    {
      "cell_type": "code",
      "source": [
        "CONTEXT_SIZE = 2\n",
        "EMBEDDING_DIM = 10\n",
        "# We will use Shakespeare Sonnet 2\n",
        "test_sentence = \"\"\"When forty winters shall besiege thy brow,\n",
        "And dig deep trenches in thy beauty's field,\n",
        "Thy youth's proud livery so gazed on now,\n",
        "Will be a totter'd weed of small worth held:\n",
        "Then being asked, where all thy beauty lies,\n",
        "Where all the treasure of thy lusty days;\n",
        "To say, within thine own deep sunken eyes,\n",
        "Were an all-eating shame, and thriftless praise.\n",
        "How much more praise deserv'd thy beauty's use,\n",
        "If thou couldst answer 'This fair child of mine\n",
        "Shall sum my count, and make my old excuse,'\n",
        "Proving his beauty by succession thine!\n",
        "This were to be new made when thou art old,\n",
        "And see thy blood warm when thou feel'st it cold.\"\"\".split()\n",
        "\n",
        "ngrams = [\n",
        "  (\n",
        "      [test_sentence[i - j - 1] for j in range(CONTEXT_SIZE)],\n",
        "       test_sentence[i]\n",
        "  )\n",
        "  for i in range(CONTEXT_SIZE, len(test_sentence))\n",
        "]\n",
        "print(ngrams[:3])\n",
        "\n",
        "vocab = set(test_sentence)\n",
        "word_to_idx = {word: i for i, word in enumerate(vocab)}\n",
        "\n",
        "class NGramLanguageModeler(nn.Module):\n",
        "  def __init__(self, vocab_size, embedding_dim, context_size):\n",
        "    super(NGramLanguageModeler, self).__init__()\n",
        "    self.embeddings = nn.Embedding(vocab_size, embedding_dim)\n",
        "    self.linear1 = nn.Linear(context_size * embedding_dim, 128)\n",
        "    self.linear2 = nn.Linear(128, vocab_size)\n",
        "\n",
        "  def forward(self, inputs):\n",
        "    embeds = self.embeddings(inputs).view((1, -1))\n",
        "    out = F.relu(self.linear1(embeds))\n",
        "    out = self.linear2(out)\n",
        "    log_probs = F.log_softmax(out, dim=1)\n",
        "    return log_probs\n",
        "\n",
        "losses = []\n",
        "loss_fn = nn.NLLLoss()\n",
        "model = NGramLanguageModeler(len(vocab), EMBEDDING_DIM, CONTEXT_SIZE)\n",
        "optimizer = optim.SGD(model.parameters(), lr=0.001)\n",
        "\n",
        "for epoch in range(10):\n",
        "  total_loss = 0\n",
        "  for context, target in ngrams:\n",
        "    # Step 1. Prepare the inputs to be passed to the model (i.e, turn the words\n",
        "    # into integer indices and wrap them in tensors)\n",
        "    context_idxs = torch.tensor([word_to_idx[w] for w in context], dtype=torch.long)\n",
        "\n",
        "    # Step 2. Recall that torch *accumulates* gradients. Before passing in a\n",
        "    # new instance, you need to zero out the gradients from the old\n",
        "    # instance\n",
        "    model.zero_grad()\n",
        "\n",
        "    # Step 3. Run the forward pass, getting log probabilities over next\n",
        "    # words\n",
        "    log_probs = model(context_idxs)\n",
        "\n",
        "    # Step 4. Compute your loss function. (Again, Torch wants the target\n",
        "    # word wrapped in a tensor)\n",
        "    loss = loss_fn(log_probs, torch.tensor([word_to_idx[target]], dtype=torch.long))\n",
        "\n",
        "    # Step 5. Do the backward pass and update the gradient\n",
        "    loss.backward()\n",
        "    optimizer.step()\n",
        "\n",
        "    # Get the Python number from a 1-element Tensor by calling tensor.item()\n",
        "    total_loss += loss.item()\n",
        "  losses.append(total_loss)\n",
        "print(losses)\n",
        "\n",
        "print(model.embeddings.weight[word_to_idx['beauty']])"
      ],
      "metadata": {
        "colab": {
          "base_uri": "https://localhost:8080/"
        },
        "id": "uWi-UG06WZYK",
        "outputId": "82e669ed-0242-4050-b82f-4fa43183778c"
      },
      "execution_count": 5,
      "outputs": [
        {
          "output_type": "stream",
          "name": "stdout",
          "text": [
            "[(['forty', 'When'], 'winters'), (['winters', 'forty'], 'shall'), (['shall', 'winters'], 'besiege')]\n",
            "[519.1721289157867, 516.8090448379517, 514.4603037834167, 512.1243286132812, 509.8023808002472, 507.4914245605469, 505.19114804267883, 502.90099930763245, 500.6204080581665, 498.34866738319397]\n",
            "tensor([-2.0971, -1.5399,  0.5651, -0.4840,  2.2016, -0.1476,  2.0756, -0.3585,\n",
            "        -0.1595, -0.3945], grad_fn=<SelectBackward0>)\n"
          ]
        }
      ]
    },
    {
      "cell_type": "code",
      "source": [
        "CONTEXT_SIZE = 2  # 2 words to the left, 2 to the right\n",
        "raw_text = \"\"\"We are about to study the idea of a computational process.\n",
        "Computational processes are abstract beings that inhabit computers.\n",
        "As they evolve, processes manipulate other abstract things called data.\n",
        "The evolution of a process is directed by a pattern of rules\n",
        "called a program. People create programs to direct processes. In effect,\n",
        "we conjure the spirits of the computer with our spells.\"\"\".split()\n",
        "EMBED_DIM = 100\n",
        "\n",
        "# By deriving a set from `raw_text`, we deduplicate the array\n",
        "vocab = set(raw_text)\n",
        "vocab_size = len(vocab)\n",
        "\n",
        "word_to_ix = {word: i for i, word in enumerate(vocab)}\n",
        "ix_to_word = {ix:word for ix, word in enumerate(vocab)}\n",
        "data = []\n",
        "for i in range(CONTEXT_SIZE, len(raw_text) - CONTEXT_SIZE):\n",
        "    context = (\n",
        "        [raw_text[i - j - 1] for j in range(CONTEXT_SIZE)]\n",
        "        + [raw_text[i + j + 1] for j in range(CONTEXT_SIZE)]\n",
        "    )\n",
        "    target = raw_text[i]\n",
        "    data.append((context, target))\n",
        "print(data[:5])\n",
        "\n",
        "def make_context_vector(context, word_to_ix):\n",
        "    idxs = [word_to_ix[w] for w in context]\n",
        "    return torch.tensor(idxs, dtype=torch.long)\n",
        "\n",
        "\n",
        "make_context_vector(data[0][0], word_to_ix)  # example\n",
        "\n",
        "class CBOW(nn.Module):\n",
        "\n",
        "    def __init__(self, vocab_size, embed_dim):\n",
        "        super(CBOW, self).__init__()\n",
        "\n",
        "        self.embed = nn.Embedding(vocab_size, embed_dim)\n",
        "        self.linear1 = nn.Linear(embed_dim, 128)\n",
        "        self.linear2 = nn.Linear(128, vocab_size)\n",
        "\n",
        "\n",
        "    def forward(self, inputs):\n",
        "        out = sum(self.embed(inputs)).view(1, -1)\n",
        "        out1 = F.relu(self.linear1(out))\n",
        "        probs = F.log_softmax(self.linear2(out1), dim=1)\n",
        "        return probs\n",
        "\n",
        "model = CBOW(vocab_size, EMBED_DIM)\n",
        "loss_fn = nn.NLLLoss()\n",
        "optimizer = optim.SGD(model.parameters(), lr=0.001)\n",
        "\n",
        "for epoch in range(50):\n",
        "  total_loss = 0\n",
        "\n",
        "  for context, target in data:\n",
        "    context_vector = make_context_vector(context, word_to_ix)\n",
        "\n",
        "    model.zero_grad()\n",
        "\n",
        "    log_probs = model(context_vector)\n",
        "\n",
        "    loss = loss_fn(log_probs, torch.tensor([word_to_ix[target]], dtype=torch.long))\n",
        "\n",
        "    loss.backward()\n",
        "    optimizer.step()\n",
        "\n",
        "\n",
        "context = ['People','create','to', 'direct']\n",
        "context_vector = make_context_vector(context, word_to_ix)\n",
        "with torch.no_grad():\n",
        "  a = model(context_vector)\n",
        "\n",
        "print(f'Context: {context}\\n')\n",
        "print(f'Prediction: {ix_to_word[torch.argmax(a[0]).item()]}')"
      ],
      "metadata": {
        "colab": {
          "base_uri": "https://localhost:8080/"
        },
        "id": "ADuXnlr_ZGIs",
        "outputId": "7d661ede-cf96-48ae-bd5f-c998b345dbcc"
      },
      "execution_count": 11,
      "outputs": [
        {
          "output_type": "stream",
          "name": "stdout",
          "text": [
            "[(['are', 'We', 'to', 'study'], 'about'), (['about', 'are', 'study', 'the'], 'to'), (['to', 'about', 'the', 'idea'], 'study'), (['study', 'to', 'idea', 'of'], 'the'), (['the', 'study', 'of', 'a'], 'idea')]\n",
            "Context: ['People', 'create', 'to', 'direct']\n",
            "\n",
            "Prediction: programs\n"
          ]
        }
      ]
    }
  ]
}