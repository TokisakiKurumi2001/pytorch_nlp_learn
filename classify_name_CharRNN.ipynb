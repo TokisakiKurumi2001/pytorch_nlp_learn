{
  "nbformat": 4,
  "nbformat_minor": 0,
  "metadata": {
    "colab": {
      "name": "classify_name_CharRNN.ipynb",
      "provenance": [],
      "collapsed_sections": []
    },
    "kernelspec": {
      "name": "python3",
      "display_name": "Python 3"
    },
    "language_info": {
      "name": "python"
    }
  },
  "cells": [
    {
      "cell_type": "markdown",
      "source": [
        "# Download and prepare dataset"
      ],
      "metadata": {
        "id": "-kfX0AlW60Zo"
      }
    },
    {
      "cell_type": "code",
      "execution_count": null,
      "metadata": {
        "id": "svIuoC4r4hSR"
      },
      "outputs": [],
      "source": [
        "!wget https://download.pytorch.org/tutorial/data.zip\n",
        "!unzip data.zip"
      ]
    },
    {
      "cell_type": "code",
      "source": [
        "from __future__ import unicode_literals, print_function, division\n",
        "from io import open\n",
        "import glob\n",
        "import os\n",
        "\n",
        "def findFiles(path):\n",
        "  return glob.glob(path)\n",
        "\n",
        "print(findFiles('data/names/*.txt'))\n",
        "\n",
        "import unicodedata\n",
        "import string\n",
        "\n",
        "all_letters = string.ascii_letters + \" .,;'\"\n",
        "n_letters = len(all_letters)\n",
        "\n",
        "# Turn a Unicode string to plain ASCII, thanks to https://stackoverflow.com/a/518232/2809427\n",
        "def unicodeToAscii(s):\n",
        "  return ''.join(\n",
        "      c for c in unicodedata.normalize('NFD', s)\n",
        "      if unicodedata.category(c) != 'Mn'\n",
        "      and c in all_letters\n",
        "  )\n",
        "\n",
        "print(unicodeToAscii('Ślusàrski'))\n",
        "\n",
        "# Build the category_lines dictionary, a list of names per language\n",
        "category_lines = {}\n",
        "all_categories = []\n",
        "\n",
        "# Read a file and split into lines\n",
        "def readLines(filename):\n",
        "  lines = open(filename, encoding='UTF-8').read().strip().split('\\n')\n",
        "  return [unicodeToAscii(line) for line in lines]\n",
        "\n",
        "for filename in findFiles('data/names/*.txt'):\n",
        "  category = os.path.splitext(os.path.basename(filename))[0]\n",
        "  all_categories.append(category)\n",
        "  lines = readLines(filename)\n",
        "  category_lines[category] = lines\n",
        "\n",
        "n_categories = len(all_categories)"
      ],
      "metadata": {
        "colab": {
          "base_uri": "https://localhost:8080/"
        },
        "id": "RswFH0Ua5EKE",
        "outputId": "249d835b-3964-4f22-c9ee-90484b5cb459"
      },
      "execution_count": 2,
      "outputs": [
        {
          "output_type": "stream",
          "name": "stdout",
          "text": [
            "['data/names/Polish.txt', 'data/names/German.txt', 'data/names/Czech.txt', 'data/names/Scottish.txt', 'data/names/Japanese.txt', 'data/names/Italian.txt', 'data/names/Chinese.txt', 'data/names/Russian.txt', 'data/names/Portuguese.txt', 'data/names/Irish.txt', 'data/names/Dutch.txt', 'data/names/Vietnamese.txt', 'data/names/Arabic.txt', 'data/names/Korean.txt', 'data/names/English.txt', 'data/names/French.txt', 'data/names/Spanish.txt', 'data/names/Greek.txt']\n",
            "Slusarski\n"
          ]
        }
      ]
    },
    {
      "cell_type": "code",
      "source": [
        "print(category_lines['Italian'][:5])"
      ],
      "metadata": {
        "colab": {
          "base_uri": "https://localhost:8080/"
        },
        "id": "D43hIw6l6m5W",
        "outputId": "9c9e9daa-1a34-4444-95ad-5e719e525622"
      },
      "execution_count": 3,
      "outputs": [
        {
          "output_type": "stream",
          "name": "stdout",
          "text": [
            "['Abandonato', 'Abatangelo', 'Abatantuono', 'Abate', 'Abategiovanni']\n"
          ]
        }
      ]
    },
    {
      "cell_type": "markdown",
      "source": [
        "# Turning name in tensor"
      ],
      "metadata": {
        "id": "wL1Rp2lP62pj"
      }
    },
    {
      "cell_type": "code",
      "source": [
        "import torch\n",
        "\n",
        "def letterToIdx(letter):\n",
        "  return all_letters.find(letter)\n",
        "\n",
        "# We actually don't use this\n",
        "def letterToTensor(letter):\n",
        "  tensor = torch.zeros(1, n_letters)\n",
        "  tensor[0][letterToIdx(letter)] = 1\n",
        "  return tensor # one hot vector\n",
        "\n",
        "# Turn a line: Abandonato into Tensor of shape: [num_char_in_line, 1, n_letters]\n",
        "def lineToTensor(line):\n",
        "  tensor = torch.zeros(len(line), 1, n_letters)\n",
        "  for line_idx, letter in enumerate(line):\n",
        "    tensor[line_idx][0][letterToIdx(letter)] = 1\n",
        "  return tensor\n",
        "\n",
        "print(letterToTensor('J'))\n",
        "\n",
        "print(lineToTensor('Jones').size())"
      ],
      "metadata": {
        "colab": {
          "base_uri": "https://localhost:8080/"
        },
        "id": "AX2Oc_YT6yBH",
        "outputId": "0b77f750-8fb9-4a5e-a14c-0429e7b3543a"
      },
      "execution_count": 4,
      "outputs": [
        {
          "output_type": "stream",
          "name": "stdout",
          "text": [
            "tensor([[0., 0., 0., 0., 0., 0., 0., 0., 0., 0., 0., 0., 0., 0., 0., 0., 0., 0.,\n",
            "         0., 0., 0., 0., 0., 0., 0., 0., 0., 0., 0., 0., 0., 0., 0., 0., 0., 1.,\n",
            "         0., 0., 0., 0., 0., 0., 0., 0., 0., 0., 0., 0., 0., 0., 0., 0., 0., 0.,\n",
            "         0., 0., 0.]])\n",
            "torch.Size([5, 1, 57])\n"
          ]
        }
      ]
    },
    {
      "cell_type": "markdown",
      "source": [
        "# Creating the network"
      ],
      "metadata": {
        "id": "mbQdsC9C4sU9"
      }
    },
    {
      "cell_type": "code",
      "source": [
        "import torch.nn as nn\n",
        "import torch.nn.functional as F\n",
        "\n",
        "class RNN(nn.Module):\n",
        "  def __init__(self, input_size, hidden_size, output_size):\n",
        "    super(RNN, self).__init__()\n",
        "    self.hidden_size = hidden_size\n",
        "    \n",
        "    self.i2h = nn.Linear(input_size + hidden_size, hidden_size)\n",
        "    self.i2o = nn.Linear(input_size + hidden_size, output_size)\n",
        "\n",
        "  def init_hidden(self):\n",
        "    return torch.zeros(1, self.hidden_size)\n",
        "\n",
        "  def forward(self, input, hidden):\n",
        "    combined = torch.cat((input, hidden) , 1)\n",
        "    hidden = self.i2h(combined)\n",
        "    output = self.i2o(combined)\n",
        "    output = F.log_softmax(output, dim=1)\n",
        "    return output, hidden\n",
        "\n",
        "n_hidden = 128\n",
        "rnn = RNN(n_letters, n_hidden, n_categories)"
      ],
      "metadata": {
        "id": "gur92CyY40kN"
      },
      "execution_count": 7,
      "outputs": []
    },
    {
      "cell_type": "code",
      "source": [
        "input = letterToTensor('A')\n",
        "hidden = rnn.init_hidden()\n",
        "\n",
        "with torch.no_grad():\n",
        "  output, next_hidden = rnn(input, hidden)\n",
        "print(output)\n",
        "print(next_hidden)"
      ],
      "metadata": {
        "id": "2Yc0y55b5tBi",
        "colab": {
          "base_uri": "https://localhost:8080/"
        },
        "outputId": "ffaea780-55ec-40ee-afca-7a53b1438a25"
      },
      "execution_count": 10,
      "outputs": [
        {
          "output_type": "stream",
          "name": "stdout",
          "text": [
            "tensor([[-2.8402, -2.9274, -2.8994, -2.8556, -3.0209, -2.7966, -2.9589, -2.9114,\n",
            "         -2.9345, -2.8402, -2.9200, -2.8372, -2.9322, -2.8463, -2.8715, -2.8976,\n",
            "         -2.9913, -2.7806]])\n",
            "tensor([[ 5.8985e-02, -1.1291e-02, -4.1824e-02, -6.4282e-02,  2.4660e-02,\n",
            "         -1.1473e-01,  3.5859e-02, -3.2638e-02,  6.3994e-02,  3.3924e-02,\n",
            "          2.5085e-02,  4.6567e-03,  4.0549e-02,  1.1328e-01,  5.0712e-02,\n",
            "          5.6844e-02,  2.9481e-02,  3.8077e-02, -5.8498e-02,  3.7190e-02,\n",
            "          5.0150e-05, -1.0731e-01, -5.6037e-02, -2.4882e-02,  8.1689e-02,\n",
            "          1.0756e-01, -8.0525e-03, -1.5084e-02,  1.6585e-02,  4.5512e-02,\n",
            "          5.2777e-02,  7.9954e-02,  4.6754e-02,  6.0379e-02,  2.3662e-02,\n",
            "          3.2974e-02, -7.0316e-02,  6.1280e-02,  6.4800e-02,  3.1320e-02,\n",
            "          3.9467e-02,  3.2924e-02, -2.5343e-02, -1.1001e-02, -4.2726e-02,\n",
            "          1.2725e-01,  7.4832e-02,  1.0770e-01, -3.3840e-02, -3.4960e-03,\n",
            "          3.3608e-02, -8.4123e-02, -3.5485e-02,  2.8162e-02,  2.0806e-02,\n",
            "          6.3795e-02, -1.2934e-01, -1.0349e-01,  2.7736e-02, -1.3627e-02,\n",
            "          5.1575e-03, -3.8770e-02,  5.7758e-02,  5.1951e-02,  5.7170e-02,\n",
            "         -5.2378e-05,  3.4720e-02, -2.3289e-02,  9.6235e-03, -1.7316e-02,\n",
            "         -7.9958e-02,  3.4907e-02, -5.4733e-02,  6.0293e-03, -2.1884e-02,\n",
            "          4.4560e-02,  3.7967e-02, -6.6302e-02, -3.7811e-03,  2.9611e-02,\n",
            "          8.8934e-02, -1.5726e-02,  2.8635e-02,  3.2864e-02,  3.9372e-02,\n",
            "          1.5779e-02, -1.1650e-02,  1.5742e-02, -1.3718e-03, -4.1052e-03,\n",
            "         -1.0388e-01, -4.3296e-02, -1.0799e-01, -9.6816e-02,  1.1644e-01,\n",
            "         -7.4625e-02,  3.4582e-02,  2.4499e-02, -1.3964e-02,  7.9455e-02,\n",
            "         -5.7144e-03, -2.6408e-02, -1.0526e-02,  5.0414e-02, -2.3539e-02,\n",
            "         -3.4231e-02, -1.6147e-02,  1.1908e-01, -4.4771e-02, -5.9738e-03,\n",
            "          5.3618e-02,  1.2789e-01, -1.2565e-01,  3.2690e-02, -1.9801e-02,\n",
            "         -3.3351e-02,  3.5155e-02, -8.2818e-03,  2.7423e-03, -9.2462e-03,\n",
            "         -4.5806e-02, -6.4717e-02,  2.0357e-02,  1.9727e-02,  1.3783e-01,\n",
            "         -3.8322e-02, -9.9005e-02,  8.4570e-02]])\n"
          ]
        }
      ]
    },
    {
      "cell_type": "code",
      "source": [
        "input = lineToTensor('Albert')\n",
        "hidden = rnn.init_hidden()\n",
        "\n",
        "with torch.no_grad():\n",
        "  output, next_hidden= rnn(input[0], hidden)\n",
        "print(output)\n",
        "print(next_hidden)"
      ],
      "metadata": {
        "id": "XswPT6yV5_a5",
        "colab": {
          "base_uri": "https://localhost:8080/"
        },
        "outputId": "be9b4cb0-f140-47f3-dcd3-209fc78bceaa"
      },
      "execution_count": 11,
      "outputs": [
        {
          "output_type": "stream",
          "name": "stdout",
          "text": [
            "tensor([[-2.8402, -2.9274, -2.8994, -2.8556, -3.0209, -2.7966, -2.9589, -2.9114,\n",
            "         -2.9345, -2.8402, -2.9200, -2.8372, -2.9322, -2.8463, -2.8715, -2.8976,\n",
            "         -2.9913, -2.7806]])\n",
            "tensor([[ 5.8985e-02, -1.1291e-02, -4.1824e-02, -6.4282e-02,  2.4660e-02,\n",
            "         -1.1473e-01,  3.5859e-02, -3.2638e-02,  6.3994e-02,  3.3924e-02,\n",
            "          2.5085e-02,  4.6567e-03,  4.0549e-02,  1.1328e-01,  5.0712e-02,\n",
            "          5.6844e-02,  2.9481e-02,  3.8077e-02, -5.8498e-02,  3.7190e-02,\n",
            "          5.0150e-05, -1.0731e-01, -5.6037e-02, -2.4882e-02,  8.1689e-02,\n",
            "          1.0756e-01, -8.0525e-03, -1.5084e-02,  1.6585e-02,  4.5512e-02,\n",
            "          5.2777e-02,  7.9954e-02,  4.6754e-02,  6.0379e-02,  2.3662e-02,\n",
            "          3.2974e-02, -7.0316e-02,  6.1280e-02,  6.4800e-02,  3.1320e-02,\n",
            "          3.9467e-02,  3.2924e-02, -2.5343e-02, -1.1001e-02, -4.2726e-02,\n",
            "          1.2725e-01,  7.4832e-02,  1.0770e-01, -3.3840e-02, -3.4960e-03,\n",
            "          3.3608e-02, -8.4123e-02, -3.5485e-02,  2.8162e-02,  2.0806e-02,\n",
            "          6.3795e-02, -1.2934e-01, -1.0349e-01,  2.7736e-02, -1.3627e-02,\n",
            "          5.1575e-03, -3.8770e-02,  5.7758e-02,  5.1951e-02,  5.7170e-02,\n",
            "         -5.2378e-05,  3.4720e-02, -2.3289e-02,  9.6235e-03, -1.7316e-02,\n",
            "         -7.9958e-02,  3.4907e-02, -5.4733e-02,  6.0293e-03, -2.1884e-02,\n",
            "          4.4560e-02,  3.7967e-02, -6.6302e-02, -3.7811e-03,  2.9611e-02,\n",
            "          8.8934e-02, -1.5726e-02,  2.8635e-02,  3.2864e-02,  3.9372e-02,\n",
            "          1.5779e-02, -1.1650e-02,  1.5742e-02, -1.3718e-03, -4.1052e-03,\n",
            "         -1.0388e-01, -4.3296e-02, -1.0799e-01, -9.6816e-02,  1.1644e-01,\n",
            "         -7.4625e-02,  3.4582e-02,  2.4499e-02, -1.3964e-02,  7.9455e-02,\n",
            "         -5.7144e-03, -2.6408e-02, -1.0526e-02,  5.0414e-02, -2.3539e-02,\n",
            "         -3.4231e-02, -1.6147e-02,  1.1908e-01, -4.4771e-02, -5.9738e-03,\n",
            "          5.3618e-02,  1.2789e-01, -1.2565e-01,  3.2690e-02, -1.9801e-02,\n",
            "         -3.3351e-02,  3.5155e-02, -8.2818e-03,  2.7423e-03, -9.2462e-03,\n",
            "         -4.5806e-02, -6.4717e-02,  2.0357e-02,  1.9727e-02,  1.3783e-01,\n",
            "         -3.8322e-02, -9.9005e-02,  8.4570e-02]])\n"
          ]
        }
      ]
    },
    {
      "cell_type": "markdown",
      "source": [
        "# Training"
      ],
      "metadata": {
        "id": "I4fTTdnV6RNB"
      }
    },
    {
      "cell_type": "code",
      "source": [
        "def categoryFromOutput(output):\n",
        "  _, top_i = output.topk(1)\n",
        "  category_i = top_i[0].item()\n",
        "  return all_categories[category_i], category_i\n",
        "\n",
        "print(categoryFromOutput(output))"
      ],
      "metadata": {
        "id": "4tcfZn2D6R7C",
        "colab": {
          "base_uri": "https://localhost:8080/"
        },
        "outputId": "542b55b7-f48a-4edf-9c69-d70daa4586b2"
      },
      "execution_count": 12,
      "outputs": [
        {
          "output_type": "stream",
          "name": "stdout",
          "text": [
            "('Greek', 17)\n"
          ]
        }
      ]
    },
    {
      "cell_type": "code",
      "source": [
        "import random\n",
        "\n",
        "def randomChoice(l):\n",
        "  return l[random.randint(0, len(l) - 1)]\n",
        "\n",
        "def randomTrainingExample():\n",
        "  category = randomChoice(all_categories)\n",
        "  line = randomChoice(category_lines[category])\n",
        "  category_tensor = torch.tensor([all_categories.index(category)], dtype=torch.long)\n",
        "  line_tensor = lineToTensor(line)\n",
        "  return category, line, category_tensor, line_tensor\n",
        "\n",
        "for i in range(10):\n",
        "  category, line, category_tensor, line_tensor = randomTrainingExample()\n",
        "  print('category=', category, '/ line =', line)"
      ],
      "metadata": {
        "id": "tAtYuhffVaXn",
        "colab": {
          "base_uri": "https://localhost:8080/"
        },
        "outputId": "88895d51-9888-4a68-81cf-3c740fc0133a"
      },
      "execution_count": 14,
      "outputs": [
        {
          "output_type": "stream",
          "name": "stdout",
          "text": [
            "category= Portuguese / line = Araujo\n",
            "category= Italian / line = Potenza\n",
            "category= English / line = Danks\n",
            "category= French / line = Robert\n",
            "category= Arabic / line = Assaf\n",
            "category= Vietnamese / line = Phi\n",
            "category= Chinese / line = Dong\n",
            "category= Scottish / line = Gray\n",
            "category= English / line = Goodchild\n",
            "category= Scottish / line = Douglas\n"
          ]
        }
      ]
    },
    {
      "cell_type": "markdown",
      "source": [
        "# Training"
      ],
      "metadata": {
        "id": "TU7RpA6zaVUR"
      }
    },
    {
      "cell_type": "code",
      "source": [
        "criterion = nn.NLLLoss()"
      ],
      "metadata": {
        "id": "3ihHrTLlacl8"
      },
      "execution_count": 15,
      "outputs": []
    },
    {
      "cell_type": "code",
      "source": [
        "learning_rate = 0.005\n",
        "\n",
        "def train(category_tensor, line_tensor):\n",
        "  hidden = rnn.init_hidden()\n",
        "\n",
        "  rnn.zero_grad()\n",
        "\n",
        "  for i in range(line_tensor.size()[0]):\n",
        "    output, hidden = rnn(line_tensor[i], hidden)\n",
        "\n",
        "  loss = criterion(output, category_tensor)\n",
        "  loss.backward()\n",
        "\n",
        "  for p in rnn.parameters():\n",
        "    p.data.add_(p.grad.data, alpha=-learning_rate)\n",
        "  \n",
        "  return output, loss.item()"
      ],
      "metadata": {
        "id": "3j-Xp4DMaknZ"
      },
      "execution_count": 22,
      "outputs": []
    },
    {
      "cell_type": "code",
      "source": [
        "import time\n",
        "import math\n",
        "\n",
        "n_iters = 100000\n",
        "print_every = 5000\n",
        "plot_every = 1000\n",
        "\n",
        "current_loss = 0\n",
        "all_losses = []\n",
        "\n",
        "def timeSince(since):\n",
        "  now = time.time()\n",
        "  s = now - since\n",
        "  m = math.floor(s / 60)\n",
        "  s -= m * 60\n",
        "  return '%dm %ds' % (m, s)\n",
        "\n",
        "start = time.time()\n",
        "\n",
        "for iter in range(1, n_iters + 1):\n",
        "  category, line, category_tensor, line_tensor = randomTrainingExample()\n",
        "  output, loss = train(category_tensor, line_tensor)\n",
        "  current_loss += loss\n",
        "\n",
        "  if iter % print_every == 0:\n",
        "    guess, guess_i = categoryFromOutput(output)\n",
        "    correct = '✓' if guess == category else '✗ (%s)' % category\n",
        "    print('%d %d%% (%s) %.4f %s / %s %s' % (iter, iter / n_iters * 100,\n",
        "                                            timeSince(start), loss, line, guess,\n",
        "                                            correct))\n",
        "  if iter % plot_every == 0:\n",
        "    all_losses.append(current_loss / plot_every)\n",
        "    current_loss = 0"
      ],
      "metadata": {
        "colab": {
          "base_uri": "https://localhost:8080/"
        },
        "id": "mZZXRj7YbGEe",
        "outputId": "cd589486-a594-44a4-98b3-6064cb9476cd"
      },
      "execution_count": 23,
      "outputs": [
        {
          "output_type": "stream",
          "name": "stdout",
          "text": [
            "5000 5% (0m 4s) 2.7383 O'Neill / Dutch ✗ (Irish)\n",
            "10000 10% (0m 9s) 2.4352 Araujo / Portuguese ✗ (Spanish)\n",
            "15000 15% (0m 14s) 2.3601 Sze  / Korean ✗ (Chinese)\n",
            "20000 20% (0m 19s) 2.2354 Sakellariou / Scottish ✗ (Greek)\n",
            "25000 25% (0m 24s) 3.4521 Latham / Arabic ✗ (English)\n",
            "30000 30% (0m 29s) 3.0382 Romeijn / Irish ✗ (Dutch)\n",
            "35000 35% (0m 33s) 4.1045 Bondesan / Scottish ✗ (Italian)\n",
            "40000 40% (0m 38s) 1.7171 Sansone / French ✗ (Italian)\n",
            "45000 45% (0m 43s) 1.2416 Marie / French ✓\n",
            "50000 50% (0m 48s) 2.0478 Langbroek / French ✗ (Dutch)\n",
            "55000 55% (0m 52s) 1.6134 Mckenzie / Russian ✗ (Scottish)\n",
            "60000 60% (0m 57s) 0.3865 Dam / Vietnamese ✓\n",
            "65000 65% (1m 2s) 0.7308 Gonzalez / Spanish ✓\n",
            "70000 70% (1m 7s) 2.9189 Arthur / Arabic ✗ (French)\n",
            "75000 75% (1m 11s) 1.2856 Nigro / Portuguese ✗ (Italian)\n",
            "80000 80% (1m 16s) 2.5812 Garb / Arabic ✗ (German)\n",
            "85000 85% (1m 21s) 3.3537 Sierzant / Dutch ✗ (Polish)\n",
            "90000 90% (1m 26s) 1.5503 Montero / Portuguese ✗ (Spanish)\n",
            "95000 95% (1m 30s) 1.1692 Ton / Chinese ✗ (Vietnamese)\n",
            "100000 100% (1m 35s) 0.1112 Roggeveen / Dutch ✓\n"
          ]
        }
      ]
    },
    {
      "cell_type": "markdown",
      "source": [
        "# Plot the results"
      ],
      "metadata": {
        "id": "_z2p9GEkcRbb"
      }
    },
    {
      "cell_type": "code",
      "source": [
        "import matplotlib.pyplot as plt\n",
        "import matplotlib.ticker as ticker\n",
        "\n",
        "plt.figure()\n",
        "plt.plot(all_losses)"
      ],
      "metadata": {
        "colab": {
          "base_uri": "https://localhost:8080/",
          "height": 282
        },
        "id": "7SJeJN1UcTZa",
        "outputId": "bbb00411-7149-4bc4-fb24-25916dbf6005"
      },
      "execution_count": 24,
      "outputs": [
        {
          "output_type": "execute_result",
          "data": {
            "text/plain": [
              "[<matplotlib.lines.Line2D at 0x7fcc61233c10>]"
            ]
          },
          "metadata": {},
          "execution_count": 24
        },
        {
          "output_type": "display_data",
          "data": {
            "image/png": "[encoded data removed]",
            "text/plain": [
              "<Figure size 432x288 with 1 Axes>"
            ]
          },
          "metadata": {
            "needs_background": "light"
          }
        }
      ]
    },
    {
      "cell_type": "markdown",
      "source": [
        "# Evaluating the results"
      ],
      "metadata": {
        "id": "2pCFIl_EccHF"
      }
    },
    {
      "cell_type": "code",
      "source": [
        "confusion = torch.zeros(n_categories, n_categories)\n",
        "n_confusion = 10000\n",
        "\n",
        "def evaluate(line_tensor):\n",
        "  hidden = rnn.init_hidden()\n",
        "\n",
        "  for i in range(line_tensor.size()[0]):\n",
        "    output, hidden = rnn(line_tensor[i], hidden)\n",
        "  \n",
        "  return output\n",
        "\n",
        "for i in range(n_confusion):\n",
        "  category, line, category_tensor, line_tensor = randomTrainingExample()\n",
        "  output = evaluate(line_tensor)\n",
        "  guess, guess_i = categoryFromOutput(output)\n",
        "  category_i = all_categories.index(category)\n",
        "  confusion[category_i][guess_i] += 1\n",
        "\n",
        "for i in range(n_categories):\n",
        "  confusion[i] = confusion[i] / confusion[i].sum()\n",
        "\n",
        "fig = plt.figure()\n",
        "ax = fig.add_subplot(111)\n",
        "cax = ax.matshow(confusion.numpy())\n",
        "fig.colorbar(cax)\n",
        "\n",
        "ax.set_xticklabels([''] + all_categories, rotation = 90)\n",
        "ax.set_yticklabels([''] + all_categories)\n",
        "\n",
        "ax.xaxis.set_major_locator(ticker.MultipleLocator(1))\n",
        "ax.yaxis.set_major_locator(ticker.MultipleLocator(1))\n",
        "\n",
        "plt.show()"
      ],
      "metadata": {
        "colab": {
          "base_uri": "https://localhost:8080/",
          "height": 320
        },
        "id": "X5kdCJFqcdxo",
        "outputId": "a3c8400e-d537-4965-e0f4-1b8852809e99"
      },
      "execution_count": 26,
      "outputs": [
        {
          "output_type": "display_data",
          "data": {
            "image/png": "[encoded data removed]",
            "text/plain": [
              "<Figure size 432x288 with 2 Axes>"
            ]
          },
          "metadata": {
            "needs_background": "light"
          }
        }
      ]
    },
    {
      "cell_type": "markdown",
      "source": [
        "# Running on User Input"
      ],
      "metadata": {
        "id": "XM7Pj7GIdxaN"
      }
    },
    {
      "cell_type": "code",
      "source": [
        "def predict(input_line, n_predictions=3):\n",
        "  print('\\n %s' % input_line)\n",
        "  with torch.no_grad():\n",
        "    output = evaluate(lineToTensor(input_line))\n",
        "\n",
        "    topv, topi = output.topk(n_predictions, 1, True)\n",
        "    predictions = []\n",
        "\n",
        "    for i in range(n_predictions):\n",
        "      value = topv[0][i].item()\n",
        "      category_index = topi[0][i].item()\n",
        "      print('(%.2f) %s' % (value, all_categories[category_index]))\n",
        "      predictions.append([value, all_categories[category_index]])\n",
        "\n",
        "predict('Dovesky')\n",
        "predict('Jackson')\n",
        "predict('Satoshi')"
      ],
      "metadata": {
        "colab": {
          "base_uri": "https://localhost:8080/"
        },
        "id": "4_gntJHsd12S",
        "outputId": "3a251dce-8d05-479c-9aa1-905574b150c9"
      },
      "execution_count": 27,
      "outputs": [
        {
          "output_type": "stream",
          "name": "stdout",
          "text": [
            "\n",
            " Dovesky\n",
            "(-0.42) Russian\n",
            "(-1.36) Czech\n",
            "(-3.52) English\n",
            "\n",
            " Jackson\n",
            "(-0.13) Scottish\n",
            "(-2.87) English\n",
            "(-3.73) Russian\n",
            "\n",
            " Satoshi\n",
            "(-0.44) Japanese\n",
            "(-1.59) Arabic\n",
            "(-2.78) Italian\n"
          ]
        }
      ]
    }
  ]
}